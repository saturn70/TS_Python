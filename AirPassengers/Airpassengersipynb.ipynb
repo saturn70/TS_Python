{
  "nbformat": 4,
  "nbformat_minor": 0,
  "metadata": {
    "colab": {
      "private_outputs": true,
      "provenance": []
    },
    "kernelspec": {
      "name": "python3",
      "display_name": "Python 3"
    },
    "language_info": {
      "name": "python"
    }
  },
  "cells": [
    {
      "cell_type": "code",
      "source": [
        "import pandas as pd\n",
        "import numpy as np\n",
        "import statsmodels.api as sm"
      ],
      "metadata": {
        "id": "ZmOdUHeUT8QE"
      },
      "execution_count": null,
      "outputs": []
    },
    {
      "cell_type": "code",
      "source": [
        "# Example of loading time series data from a CSV file\n",
        "df = pd.read_csv('https://raw.githubusercontent.com/saturn70/TS_Analysis/main/R/AirPassengers/AirPassengers.csv')\n",
        "df.head()"
      ],
      "metadata": {
        "id": "oKnGNHMUUN6_"
      },
      "execution_count": null,
      "outputs": []
    },
    {
      "cell_type": "code",
      "source": [
        "import matplotlib.pyplot as plt\n",
        "\n",
        "# Plot your time series data\n",
        "plt.figure(figsize=(12, 6))\n",
        "plt.plot(df['Month'],df['Passengers'])\n",
        "plt.title('Time Series Data')\n",
        "plt.xlabel('Month')\n",
        "plt.ylabel('Passengers')\n",
        "plt.show()\n"
      ],
      "metadata": {
        "id": "J6qDCyKiT8Sa"
      },
      "execution_count": null,
      "outputs": []
    },
    {
      "cell_type": "code",
      "source": [
        "df['Month'] = pd.to_datetime(df['Month'])  # Convert to DateTime index\n",
        "df.set_index('Month', inplace=True)"
      ],
      "metadata": {
        "id": "5S-CJ9qLmzpD"
      },
      "execution_count": null,
      "outputs": []
    },
    {
      "cell_type": "code",
      "source": [
        "decomposition = sm.tsa.seasonal_decompose(df['Passengers'], model='additive')\n",
        "decomposition"
      ],
      "metadata": {
        "id": "eVNNaAiQT8Vh"
      },
      "execution_count": null,
      "outputs": []
    },
    {
      "cell_type": "code",
      "source": [
        "trend = decomposition.trend\n",
        "seasonal = decomposition.seasonal\n",
        "residual = decomposition.resid\n",
        "print(trend)\n",
        "print(seasonal)\n",
        "print(residual)"
      ],
      "metadata": {
        "id": "LnhYzc1rmKdx"
      },
      "execution_count": null,
      "outputs": []
    },
    {
      "cell_type": "code",
      "source": [
        "plt.figure(figsize=(12, 8))\n",
        "plt.subplot(411)\n",
        "plt.plot(df['Passengers'], label='Original')\n",
        "plt.legend(loc='upper left')\n",
        "plt.subplot(412)\n",
        "plt.plot(trend, label='Trend')\n",
        "plt.legend(loc='upper left')\n",
        "plt.subplot(413)\n",
        "plt.plot(seasonal, label='Seasonal')\n",
        "plt.legend(loc='upper left')\n",
        "plt.subplot(414)\n",
        "plt.plot(residual, label='Residual')\n",
        "plt.legend(loc='upper left')\n",
        "plt.tight_layout()\n"
      ],
      "metadata": {
        "id": "ZZqIQXPYT8YF"
      },
      "execution_count": null,
      "outputs": []
    },
    {
      "cell_type": "code",
      "source": [
        "from statsmodels.tsa.arima.model import ARIMA\n",
        "\n",
        "# Define and fit an ARIMA model\n",
        "model = ARIMA(df['Passengers'], order=(1, 1, 1))\n",
        "results = model.fit()\n",
        "\n",
        "# Print model summary\n",
        "print(results.summary())"
      ],
      "metadata": {
        "id": "eI6z-CLJnZ3Z"
      },
      "execution_count": null,
      "outputs": []
    },
    {
      "cell_type": "code",
      "source": [
        "# Forecast future values\n",
        "forecast_steps = 10  # Adjust the number of steps you want to forecast\n",
        "forecast = results.forecast(steps=forecast_steps)\n",
        "\n",
        "# Plot the original data and the forecast\n",
        "plt.plot(df['Passengers'], label='Original')\n",
        "plt.plot(range(len(df), len(df) + forecast_steps), forecast, label='Forecast', color='red')\n",
        "plt.legend()\n",
        "plt.show()\n"
      ],
      "metadata": {
        "id": "Yf03HXKbT8a6"
      },
      "execution_count": null,
      "outputs": []
    },
    {
      "cell_type": "markdown",
      "source": [
        "**ACF**"
      ],
      "metadata": {
        "id": "I8tBEOhTqpSL"
      }
    },
    {
      "cell_type": "code",
      "source": [
        "import statsmodels.api as sm\n",
        "import matplotlib.pyplot as plt\n",
        "\n",
        "# Assuming you have a time series in the 'data' variable\n",
        "# Replace 'data' with your actual time series data\n",
        "\n",
        "# Calculate the ACF\n",
        "acf = sm.tsa.acf(df, fft=False)\n",
        "\n",
        "# Create the ACF plot\n",
        "plt.figure(figsize=(10, 6))\n",
        "sm.graphics.tsa.plot_acf(df, lags=len(acf)-1)\n",
        "plt.title('Autocorrelation Function (ACF) Plot')\n",
        "plt.xlabel('Lag')\n",
        "plt.ylabel('Autocorrelation')\n",
        "plt.show()\n"
      ],
      "metadata": {
        "id": "Jea9utyrqaEn"
      },
      "execution_count": null,
      "outputs": []
    },
    {
      "cell_type": "markdown",
      "source": [
        "**PACF**"
      ],
      "metadata": {
        "id": "at3TcRjLqumW"
      }
    },
    {
      "cell_type": "code",
      "source": [
        "import statsmodels.api as sm\n",
        "import matplotlib.pyplot as plt\n",
        "\n",
        "# Assuming you have a time series in the 'data' variable\n",
        "# Replace 'data' with your actual time series data\n",
        "\n",
        "# Calculate the PACF\n",
        "pacf = sm.tsa.pacf(df)\n",
        "\n",
        "# Create the PACF plot\n",
        "plt.figure(figsize=(10, 6))\n",
        "sm.graphics.tsa.plot_pacf(df, lags=len(pacf)-1)\n",
        "plt.title('Partial Autocorrelation Function (PACF) Plot')\n",
        "plt.xlabel('Lag')\n",
        "plt.ylabel('Partial Autocorrelation')\n",
        "plt.show()\n"
      ],
      "metadata": {
        "id": "n17dOMIeqwmZ"
      },
      "execution_count": null,
      "outputs": []
    },
    {
      "cell_type": "code",
      "source": [
        "from sklearn.metrics import mean_squared_error, mean_absolute_error\n",
        "\n",
        "# Calculate and print evaluation metrics\n",
        "mse = mean_squared_error(df['Passengers'][-forecast_steps:], forecast)\n",
        "mae = mean_absolute_error(df['Passengers'][-forecast_steps:], forecast)\n",
        "print(f'Mean Squared Error: {mse}')\n",
        "print(f'Mean Absolute Error: {mae}')\n"
      ],
      "metadata": {
        "id": "PGkOxYiIn_DI"
      },
      "execution_count": null,
      "outputs": []
    }
  ]
}